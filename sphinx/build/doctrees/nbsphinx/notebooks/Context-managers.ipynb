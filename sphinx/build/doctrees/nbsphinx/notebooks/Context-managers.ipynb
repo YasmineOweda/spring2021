{
 "cells": [
  {
   "cell_type": "markdown",
   "metadata": {
    "slideshow": {
     "slide_type": "slide"
    }
   },
   "source": [
    "# Context managers"
   ]
  },
  {
   "cell_type": "markdown",
   "metadata": {},
   "source": [
    "You have all seen this pattern: "
   ]
  },
  {
   "cell_type": "code",
   "execution_count": 3,
   "metadata": {},
   "outputs": [
    {
     "data": {
      "text/plain": [
       "'An expert is a person who has made all the mistakes that can be made in a very narrow field.\\nPrediction is very difficult, especially about the future.\\nThose who are not shocked when they first come across quantum theory cannot possibly have understood it.\\n'"
      ]
     },
     "execution_count": 3,
     "metadata": {},
     "output_type": "execute_result"
    }
   ],
   "source": [
    "f = open('testfiles/bohr.txt', 'r')\n",
    "f.read()\n",
    "f.close()"
   ]
  },
  {
   "cell_type": "code",
   "execution_count": 2,
   "metadata": {},
   "outputs": [],
   "source": [
    "with open('testfiles/bohr.txt', 'r') as f:\n",
    "    f.readline\n",
    "    \n"
   ]
  },
  {
   "cell_type": "markdown",
   "metadata": {},
   "source": [
    "This is a convenient alternative to writing:"
   ]
  },
  {
   "cell_type": "code",
   "execution_count": 4,
   "metadata": {},
   "outputs": [
    {
     "name": "stdout",
     "output_type": "stream",
     "text": [
      "An expert is a person who has made all the mistakes that can be made in a very narrow field.\n",
      "\n"
     ]
    }
   ],
   "source": [
    "try:\n",
    "    f = open('testfiles/bohr.txt', 'r')\n",
    "    print(f.readline())\n",
    "finally:\n",
    "    f.close()"
   ]
  },
  {
   "cell_type": "markdown",
   "metadata": {},
   "source": [
    "We will look at how this works, and we will write or own Context manager that follow the protocol. "
   ]
  },
  {
   "cell_type": "markdown",
   "metadata": {},
   "source": [
    "The problem with not closing files can be demonstarted like this:"
   ]
  },
  {
   "cell_type": "code",
   "execution_count": null,
   "metadata": {},
   "outputs": [],
   "source": [
    "# do not run this on windows\n",
    "\n",
    "files = []\n",
    "for x in range(1000):\n",
    "    files.append(open('testfiles/bohr.txt', 'r'))\n",
    "\n",
    "# You will get an error about to many open files."
   ]
  },
  {
   "cell_type": "markdown",
   "metadata": {
    "slideshow": {
     "slide_type": "slide"
    }
   },
   "source": [
    "## Basic Context Managers\n",
    "The context manager protocol consists of an **\\_\\_enter__** and an **\\_\\_exit__** method.  \n",
    "when using the **with** statement the **\\_\\_enter__** method is called.  \n",
    "What is in the scope is executed and  \n",
    "The **\\_\\_exit__** method is called when leaving the scope.  "
   ]
  },
  {
   "cell_type": "code",
   "execution_count": 5,
   "metadata": {
    "slideshow": {
     "slide_type": "subslide"
    }
   },
   "outputs": [
    {
     "name": "stdout",
     "output_type": "stream",
     "text": [
      "__enter__\n",
      "An expert is a person who has made all the mistakes that can be made in a very narrow field.\n",
      "\n",
      "__exit__\n"
     ]
    }
   ],
   "source": [
    "class OpenFile():\n",
    "    def __init__(self, filename, mode):\n",
    "        self.filename = filename\n",
    "        self.mode = mode\n",
    "\n",
    "    def __enter__(self):\n",
    "        print('__enter__')\n",
    "        self.file = open(self.filename, self.mode)\n",
    "        return self.file\n",
    "\n",
    "    def __exit__(self, *args):\n",
    "        print('__exit__')\n",
    "        self.file.close()\n",
    "\n",
    "\n",
    "with OpenFile('testfiles/bohr.txt', 'r') as f:\n",
    "    print(f.readline())\n"
   ]
  },
  {
   "cell_type": "markdown",
   "metadata": {
    "slideshow": {
     "slide_type": "slide"
    }
   },
   "source": [
    "### contextlib\n",
    "The contextlib module consists of different context manager.  \n",
    "We will look at 2 of them.  \n",
    "\n",
    "**@contextmanager**\n",
    "> A decorator that lest you build a context manager from a simple generator function, instead of creating a class and implementing the protocol.  \n",
    "\n",
    "**ContextDecorator**\n",
    "> A base class for defining class-based context managers that can also be used as function decorators, running the entire function within a managed context. "
   ]
  },
  {
   "cell_type": "code",
   "execution_count": 2,
   "metadata": {
    "slideshow": {
     "slide_type": "subslide"
    }
   },
   "outputs": [
    {
     "name": "stdout",
     "output_type": "stream",
     "text": [
      "An expert is a person who has made all the mistakes that can be made in a very narrow field.\n",
      "Prediction is very difficult, especially about the future.\n",
      "Those who are not shocked when they first come across quantum theory cannot possibly have understood it.\n",
      "\n"
     ]
    }
   ],
   "source": [
    "from contextlib import contextmanager\n",
    "\n",
    "@contextmanager\n",
    "def open_file(filename, mode):\n",
    "    f = open(filename, mode)\n",
    "    try:\n",
    "        yield f\n",
    "    finally:\n",
    "        f.close()\n",
    "        \n",
    "\n",
    "with open_file('testfiles/bohr.txt', 'r') as f:\n",
    "    print(f.read())\n",
    "    \n"
   ]
  },
  {
   "cell_type": "markdown",
   "metadata": {
    "slideshow": {
     "slide_type": "slide"
    }
   },
   "source": [
    "## ContextDecorator"
   ]
  },
  {
   "cell_type": "code",
   "execution_count": 19,
   "metadata": {
    "slideshow": {
     "slide_type": "subslide"
    }
   },
   "outputs": [
    {
     "name": "stdout",
     "output_type": "stream",
     "text": [
      "<p>\n",
      "Python is nice\n",
      "</p>\n"
     ]
    }
   ],
   "source": [
    "from contextlib import ContextDecorator\n",
    "\n",
    "class Makeparagraph(ContextDecorator):\n",
    "    def __enter__(self):\n",
    "        print('<p>')\n",
    "        return self\n",
    "\n",
    "    def __exit__(self, *arg):\n",
    "        print('</p>')\n",
    "        return False\n",
    "    \n",
    "@Makeparagraph()\n",
    "def emit_html(msg):\n",
    "    print(msg)\n",
    "\n",
    "emit_html('Python is nice')"
   ]
  },
  {
   "cell_type": "markdown",
   "metadata": {
    "slideshow": {
     "slide_type": "slide"
    }
   },
   "source": [
    "### Decorator function"
   ]
  },
  {
   "cell_type": "code",
   "execution_count": 10,
   "metadata": {
    "slideshow": {
     "slide_type": "subslide"
    }
   },
   "outputs": [
    {
     "name": "stdout",
     "output_type": "stream",
     "text": [
      "<p>\n",
      "Hello world\n",
      "</p>\n"
     ]
    }
   ],
   "source": [
    "def makeparagraph(func):\n",
    "    def inner_decorator(*args, **kwargs):\n",
    "        print(\"<p>\")\n",
    "        func(*args, **kwargs)\n",
    "        print(\"</p>\")\n",
    "    return inner_decorator\n",
    "\n",
    "\n",
    "@makeparagraph\n",
    "def greetings(msg):\n",
    "    print(msg)\n",
    "\n",
    "\n",
    "greetings('Hello world')"
   ]
  }
 ],
 "metadata": {
  "kernelspec": {
   "display_name": "Python 3",
   "language": "python",
   "name": "python3"
  },
  "language_info": {
   "codemirror_mode": {
    "name": "ipython",
    "version": 3
   },
   "file_extension": ".py",
   "mimetype": "text/x-python",
   "name": "python",
   "nbconvert_exporter": "python",
   "pygments_lexer": "ipython3",
   "version": "3.8.5"
  },
  "toc": {
   "base_numbering": 1,
   "nav_menu": {
    "height": "94px",
    "width": "248px"
   },
   "number_sections": true,
   "sideBar": true,
   "skip_h1_title": true,
   "title_cell": "Table of Contents",
   "title_sidebar": "Contents",
   "toc_cell": false,
   "toc_position": {},
   "toc_section_display": true,
   "toc_window_display": false
  }
 },
 "nbformat": 4,
 "nbformat_minor": 2
}
