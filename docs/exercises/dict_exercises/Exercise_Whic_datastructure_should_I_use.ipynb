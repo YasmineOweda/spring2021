{
 "cells": [
  {
   "cell_type": "markdown",
   "metadata": {},
   "source": [
    "# Exercise: Which data structure should I use?"
   ]
  },
  {
   "cell_type": "markdown",
   "metadata": {},
   "source": [
    "In this assignment you should create part of a program that effeciently can clean the floors of a pallace outside of London.\n",
    "\n",
    "The pallace has large areas where the floors are open (no funiture e.g), and on these floors are teils like the ones you see below.\n",
    "\n",
    "In order to to save water and monney the pallace has implemented a system that can scan the floors for dirt, and a robot that can clean the dirty teils and leave out the teils that are clean. \n",
    "\n",
    "> Your job is to figure out which datastructures are most relevant for storing information from the scan.\n",
    "\n",
    "The only inofrmation needed to store is the position of the teil and if it is clean or not.\n",
    "\n",
    "The teils each has a number corosponding to an x and y coordinate so lowest left corner gets the 1,1 coordinate, this is the position of that teil. \n",
    "\n",
    "> Create a least 3 different solutions for this problem, and evaluate why one is better than the other."
   ]
  },
  {
   "cell_type": "markdown",
   "metadata": {},
   "source": [
    "![](img/teils2.jpg)"
   ]
  }
 ],
 "metadata": {
  "kernelspec": {
   "display_name": "Python 3",
   "language": "python",
   "name": "python3"
  },
  "language_info": {
   "codemirror_mode": {
    "name": "ipython",
    "version": 3
   },
   "file_extension": ".py",
   "mimetype": "text/x-python",
   "name": "python",
   "nbconvert_exporter": "python",
   "pygments_lexer": "ipython3",
   "version": "3.7.6"
  },
  "toc": {
   "base_numbering": 1,
   "nav_menu": {},
   "number_sections": false,
   "sideBar": true,
   "skip_h1_title": true,
   "title_cell": "Table of Contents",
   "title_sidebar": "Contents",
   "toc_cell": false,
   "toc_position": {},
   "toc_section_display": true,
   "toc_window_display": false
  }
 },
 "nbformat": 4,
 "nbformat_minor": 4
}
